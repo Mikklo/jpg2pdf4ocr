{
  "nbformat": 4,
  "nbformat_minor": 0,
  "metadata": {
    "colab": {
      "provenance": [],
      "authorship_tag": "ABX9TyPzIVPoNA/Wg+gRnMN7wdvM",
      "include_colab_link": true
    },
    "kernelspec": {
      "name": "python3",
      "display_name": "Python 3"
    },
    "language_info": {
      "name": "python"
    }
  },
  "cells": [
    {
      "cell_type": "markdown",
      "metadata": {
        "id": "view-in-github",
        "colab_type": "text"
      },
      "source": [
        "<a href=\"https://colab.research.google.com/github/Mikklo/jpg2pdf_colab/blob/main/jpg2pdf.ipynb\" target=\"_parent\"><img src=\"https://colab.research.google.com/assets/colab-badge.svg\" alt=\"Open In Colab\"/></a>"
      ]
    },
    {
      "cell_type": "code",
      "source": [
        "!pip install PyMuPDF\n"
      ],
      "metadata": {
        "id": "x1T1GiOqeVIG"
      },
      "execution_count": null,
      "outputs": []
    },
    {
      "cell_type": "code",
      "execution_count": 2,
      "metadata": {
        "id": "EZgpSQKJcks9"
      },
      "outputs": [],
      "source": [
        "from PIL import Image\n",
        "import os"
      ]
    },
    {
      "cell_type": "code",
      "source": [
        "input_directory = './input_jpg'  # Update this path\n",
        "output_directory = './output_pdf'      # Update this path\n",
        "os.makedirs(input_directory, exist_ok=True)\n",
        "os.makedirs(output_directory, exist_ok=True)"
      ],
      "metadata": {
        "id": "9Zw3IjFhdKpr"
      },
      "execution_count": 3,
      "outputs": []
    },
    {
      "cell_type": "code",
      "source": [
        "for filename in os.listdir(input_directory):\n",
        "    if filename.endswith(\".jpg\"):\n",
        "        img_path = os.path.join(input_directory, filename)\n",
        "        pdf_path = os.path.join(output_directory, filename.replace(\".jpg\", \".pdf\"))\n",
        "\n",
        "        img = Image.open(img_path)\n",
        "        pdf = img.convert(\"RGB\")\n",
        "        pdf.save(pdf_path, \"PDF\", resolution=100.0)\n",
        "\n",
        "print(\"Batch conversion complete.\")"
      ],
      "metadata": {
        "id": "TGUf3ZxkdTu8"
      },
      "execution_count": null,
      "outputs": []
    }
  ]
}