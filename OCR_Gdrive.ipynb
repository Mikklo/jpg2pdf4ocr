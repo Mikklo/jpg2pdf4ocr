{
  "nbformat": 4,
  "nbformat_minor": 0,
  "metadata": {
    "colab": {
      "provenance": [],
      "authorship_tag": "ABX9TyOFfmQCum1ivMpFSUyrvPV4",
      "include_colab_link": true
    },
    "kernelspec": {
      "name": "python3",
      "display_name": "Python 3"
    },
    "language_info": {
      "name": "python"
    }
  },
  "cells": [
    {
      "cell_type": "markdown",
      "metadata": {
        "id": "view-in-github",
        "colab_type": "text"
      },
      "source": [
        "<a href=\"https://colab.research.google.com/github/Mikklo/jpg2pdf_colab/blob/main/OCR_Gdrive.ipynb\" target=\"_parent\"><img src=\"https://colab.research.google.com/assets/colab-badge.svg\" alt=\"Open In Colab\"/></a>"
      ]
    },
    {
      "cell_type": "markdown",
      "source": [
        "# Setting up the virtual machine\n",
        "Only run this when opening this notebook again in a browser. It will start a virtual machine and install everything needed. This make take a couple of minutes. Wait  for the checkmark to the left of the script."
      ],
      "metadata": {
        "id": "K0m-gYdZiwn6"
      }
    },
    {
      "cell_type": "code",
      "source": [
        "!apt install tesseract-ocr\n",
        "!apt install libtesseract-dev\n",
        "!apt install tesseract-ocr-swe\n",
        "!apt install ghostscript\n",
        "!pip install pytesseract\n",
        "!pip install PyMuPDF\n",
        "!pip install PyPDF2\n",
        "!pip install ocrmypdf"
      ],
      "metadata": {
        "id": "x1T1GiOqeVIG"
      },
      "execution_count": null,
      "outputs": []
    },
    {
      "cell_type": "markdown",
      "source": [
        "The following two scripts are also only needed if a new machine has just been created\n",
        "---\n",
        "\n"
      ],
      "metadata": {
        "id": "ns6HrERHkLMC"
      }
    },
    {
      "cell_type": "code",
      "execution_count": null,
      "metadata": {
        "id": "EZgpSQKJcks9"
      },
      "outputs": [],
      "source": [
        "from PIL import Image\n",
        "import os\n",
        "import pandas as pd\n",
        "import shutil\n",
        "from PyPDF2 import PdfMerger\n",
        "from google.colab import drive\n",
        "%load_ext google.colab.data_table"
      ]
    },
    {
      "cell_type": "markdown",
      "source": [
        "This will require access to your google drive, it will create two folders, output_pdf and output_ocr and use them for storing the output"
      ],
      "metadata": {
        "id": "yiox5ZjJQ7qD"
      }
    },
    {
      "cell_type": "code",
      "source": [
        "drive.mount('/content/gdrive')\n",
        "input_directory = './input_jpg'\n",
        "output_directory = '/content/gdrive/MyDrive/output_pdf'\n",
        "output_ocr_directory = '/content/gdrive/MyDrive/output_ocr'\n",
        "os.makedirs(input_directory, exist_ok=True)\n",
        "os.makedirs(output_directory, exist_ok=True)\n",
        "os.makedirs(output_ocr_directory, exist_ok=True)"
      ],
      "metadata": {
        "id": "9Zw3IjFhdKpr"
      },
      "execution_count": null,
      "outputs": []
    },
    {
      "cell_type": "markdown",
      "source": [
        "\n",
        "\n",
        "---\n",
        "# Converting the files\n",
        "\n",
        "**Start here if you already have the machine running**\n",
        "   \n",
        "   \n",
        "---\n",
        "\n",
        "\n",
        "This will convert all the files located in **input_jpg** to pdf.\n",
        "\n",
        "Use the menu to the left to upload files to that folder, make sure all files are fully uploaded before proceeding."
      ],
      "metadata": {
        "id": "cdWfn-QSkR1M"
      }
    },
    {
      "cell_type": "code",
      "source": [
        "for filename in os.listdir(input_directory):\n",
        "    if filename.endswith(\".jpg\"):\n",
        "        img_path = os.path.join(input_directory, filename)\n",
        "        pdf_path = os.path.join(output_directory, filename.replace(\".jpg\", \".pdf\"))\n",
        "\n",
        "        img = Image.open(img_path)\n",
        "        pdf = img.convert(\"RGB\")\n",
        "        pdf.save(pdf_path, \"PDF\", resolution=100.0)\n",
        "\n",
        "print(\"Batch conversion complete.\")"
      ],
      "metadata": {
        "id": "TGUf3ZxkdTu8"
      },
      "execution_count": null,
      "outputs": []
    },
    {
      "cell_type": "markdown",
      "source": [
        "Verify the correct content of **output_pdf** for OCR scanning."
      ],
      "metadata": {
        "id": "tRQ_dRR4kZ71"
      }
    },
    {
      "cell_type": "code",
      "source": [
        "file_list = []\n",
        "for filename in os.listdir(output_directory):\n",
        "    if filename.endswith(\"pdf\"):\n",
        "      file_list.append(filename)\n",
        "\n",
        "print(\"The following files will be converted : \")\n",
        "pd.DataFrame(file_list, columns=[\"Filename\"])"
      ],
      "metadata": {
        "id": "dtJ7bUcYiSie"
      },
      "execution_count": null,
      "outputs": []
    },
    {
      "cell_type": "markdown",
      "source": [
        "This adds OCR on top of the images in the pdf files and outputs to output_ocr. Make sure to wait for the checkmark before downloading any pdf files.\n",
        "\n",
        "\n",
        "\n",
        "> **THIS WILL TAKE TIME**\n",
        "\n"
      ],
      "metadata": {
        "id": "veuiyg9Wkge2"
      }
    },
    {
      "cell_type": "code",
      "source": [
        "for filename in file_list:\n",
        "  print(\"Converting : \" + filename)\n",
        "  input_filename = output_directory+'/'+filename\n",
        "  output_filename = output_ocr_directory+'/'+filename\n",
        "  !ocrmypdf --force-ocr -l swe \"{input_filename}\" \"{output_filename}\""
      ],
      "metadata": {
        "id": "S54eE1smiZko"
      },
      "execution_count": null,
      "outputs": []
    },
    {
      "cell_type": "markdown",
      "source": [
        "Combine the OCR scanned PDFs into one single file named combined_ocr.pdf in the **output_ocr** folder"
      ],
      "metadata": {
        "id": "9TAJXesvJh0W"
      }
    },
    {
      "cell_type": "code",
      "source": [
        "combined_pdf_path = output_ocr_directory+'/'+'combined_ocr.pdf'\n",
        "merger = PdfMerger()\n",
        "\n",
        "for filename in os.listdir(output_ocr_directory):\n",
        "    if filename.endswith(\".pdf\"):\n",
        "        pdf_path = os.path.join(output_ocr_directory, filename)\n",
        "        merger.append(pdf_path)\n",
        "\n",
        "merger.write(combined_pdf_path)\n",
        "merger.close()\n",
        "\n",
        "print(\"PDF files combined into a single PDF.\")"
      ],
      "metadata": {
        "id": "F-DnyjYUJhI-"
      },
      "execution_count": null,
      "outputs": []
    },
    {
      "cell_type": "markdown",
      "source": [
        "\n",
        "\n",
        "\n",
        "\n",
        "---\n",
        "\n",
        "\n",
        "\n"
      ],
      "metadata": {
        "id": "B6F1hnoulkWv"
      }
    },
    {
      "cell_type": "markdown",
      "source": [
        "🛑 To reset and clear out all directories and upload new images run this script 🛑"
      ],
      "metadata": {
        "id": "q-IJ9QlwkpSX"
      }
    },
    {
      "cell_type": "code",
      "source": [
        "def empty_directory(directory):\n",
        "    for filename in os.listdir(directory):\n",
        "        file_path = os.path.join(directory, filename)\n",
        "        try:\n",
        "            if os.path.isfile(file_path):\n",
        "                os.unlink(file_path)\n",
        "            elif os.path.isdir(file_path):\n",
        "                shutil.rmtree(file_path)\n",
        "        except Exception as e:\n",
        "            print(f\"Error emptying {file_path}: {e}\")\n",
        "\n",
        "empty_directory(input_directory)\n",
        "empty_directory(output_directory)\n",
        "empty_directory(output_ocr_directory)\n",
        "print(\"All files in input, output, and OCR output directories have been emptied.\")\n"
      ],
      "metadata": {
        "id": "9BTeCVFSlXKs"
      },
      "execution_count": null,
      "outputs": []
    }
  ]
}